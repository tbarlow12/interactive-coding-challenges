{
 "cells": [
  {
   "cell_type": "markdown",
   "metadata": {},
   "source": [
    "This notebook was prepared by [Donne Martin](http://donnemartin.com). Source and license info is on [GitHub](https://github.com/donnemartin/interactive-coding-challenges)."
   ]
  },
  {
   "cell_type": "markdown",
   "metadata": {},
   "source": [
    "# Challenge Notebook"
   ]
  },
  {
   "cell_type": "markdown",
   "metadata": {},
   "source": [
    "## Problem: Determine if a string s1 is a rotation of another string s2, by calling (only once) a function is_substring.\n",
    "\n",
    "* [Constraints](#Constraints)\n",
    "* [Test Cases](#Test-Cases)\n",
    "* [Algorithm](#Algorithm)\n",
    "* [Code](#Code)\n",
    "* [Unit Test](#Unit-Test)\n",
    "* [Solution Notebook](#Solution-Notebook)"
   ]
  },
  {
   "cell_type": "markdown",
   "metadata": {},
   "source": [
    "## Constraints\n",
    "\n",
    "* Can we assume the string is ASCII?\n",
    "    * Yes\n",
    "    * Note: Unicode strings could require special handling depending on your language\n",
    "* Is this case sensitive?\n",
    "    * Yes\n",
    "* Can we use additional data structures?  \n",
    "    * Yes\n",
    "* Can we assume this fits in memory?\n",
    "    * Yes"
   ]
  },
  {
   "cell_type": "markdown",
   "metadata": {},
   "source": [
    "## Test Cases\n",
    "\n",
    "* Any strings that differ in size -> False\n",
    "* None, 'foo' -> False (any None results in False)\n",
    "* ' ', 'foo' -> False\n",
    "* ' ', ' ' -> True\n",
    "* 'foobarbaz', 'barbazfoo' -> True"
   ]
  },
  {
   "cell_type": "markdown",
   "metadata": {},
   "source": [
    "## Algorithm\n",
    "\n",
    "Refer to the [Solution Notebook](http://nbviewer.ipython.org/github/donnemartin/interactive-coding-challenges/blob/master/arrays_strings/rotation/rotation_solution.ipynb).  If you are stuck and need a hint, the solution notebook's algorithm discussion might be a good place to start."
   ]
  },
  {
   "cell_type": "markdown",
   "metadata": {},
   "source": [
    "## Code"
   ]
  },
  {
   "cell_type": "code",
   "execution_count": 12,
   "metadata": {},
   "outputs": [],
   "source": [
    "class Rotation(object):\n",
    "\n",
    "    def is_substring(self, s1, s2):\n",
    "        # s1 is the sub\n",
    "        # s2 is the string\n",
    "        pass\n",
    "\n",
    "    # Very inefficient. Think of ways to improve\n",
    "    def is_rotation(self, s1, s2):\n",
    "        \n",
    "        print(s1, s2)\n",
    "        if s1 is None or s2 is None:\n",
    "            print('Found a none')\n",
    "            return False\n",
    "        if len(s1) != len(s2):\n",
    "            print('Length not same')\n",
    "            return False\n",
    "        if s1 == s2:\n",
    "            return True\n",
    "        \n",
    "        i = 0\n",
    "        \n",
    "        while i < len(s2):\n",
    "            if s2[i] == s1[0]:\n",
    "                unrotated = s2[i:] + s2[0:i]\n",
    "                if unrotated == s1:\n",
    "                    print('Unrotated equal')\n",
    "                    return True\n",
    "            i += 1\n",
    "        print('End of function')\n",
    "        return False\n",
    "            \n",
    "        # note the index at which it was found\n",
    "        # once found, start comparison to the end of the string\n",
    "        # use mod operator for wrap-around"
   ]
  },
  {
   "cell_type": "markdown",
   "metadata": {},
   "source": [
    "## Unit Test"
   ]
  },
  {
   "cell_type": "markdown",
   "metadata": {},
   "source": [
    "\n",
    "\n",
    "**The following unit test is expected to fail until you solve the challenge.**"
   ]
  },
  {
   "cell_type": "code",
   "execution_count": 13,
   "metadata": {},
   "outputs": [
    {
     "name": "stdout",
     "output_type": "stream",
     "text": [
      "o oo\n",
      "Length not same\n",
      "None foo\n",
      "Found a none\n",
      " foo\n",
      "Length not same\n",
      " \n",
      "foobarbaz barbazfoo\n",
      "Unrotated equal\n",
      "Success: test_rotation\n"
     ]
    }
   ],
   "source": [
    "# %load test_rotation.py\n",
    "from nose.tools import assert_equal\n",
    "\n",
    "\n",
    "class TestRotation(object):\n",
    "\n",
    "    def test_rotation(self):\n",
    "        rotation = Rotation()\n",
    "        assert_equal(rotation.is_rotation('o', 'oo'), False)\n",
    "        assert_equal(rotation.is_rotation(None, 'foo'), False)\n",
    "        assert_equal(rotation.is_rotation('', 'foo'), False)\n",
    "        assert_equal(rotation.is_rotation('', ''), True)\n",
    "        assert_equal(rotation.is_rotation('foobarbaz', 'barbazfoo'), True)\n",
    "        print('Success: test_rotation')\n",
    "\n",
    "\n",
    "def main():\n",
    "    test = TestRotation()\n",
    "    test.test_rotation()\n",
    "\n",
    "\n",
    "if __name__ == '__main__':\n",
    "    main()"
   ]
  },
  {
   "cell_type": "markdown",
   "metadata": {},
   "source": [
    "## Solution Notebook\n",
    "\n",
    "Review the [Solution Notebook](http://nbviewer.ipython.org/github/donnemartin/interactive-coding-challenges/blob/master/arrays_strings/rotation/rotation_solution.ipynb) for a discussion on algorithms and code solutions."
   ]
  }
 ],
 "metadata": {
  "kernelspec": {
   "display_name": "Python 3",
   "language": "python",
   "name": "python3"
  },
  "language_info": {
   "codemirror_mode": {
    "name": "ipython",
    "version": 3
   },
   "file_extension": ".py",
   "mimetype": "text/x-python",
   "name": "python",
   "nbconvert_exporter": "python",
   "pygments_lexer": "ipython3",
   "version": "3.7.1"
  }
 },
 "nbformat": 4,
 "nbformat_minor": 1
}
